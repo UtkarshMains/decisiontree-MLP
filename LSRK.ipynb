{
  "nbformat": 4,
  "nbformat_minor": 0,
  "metadata": {
    "colab": {
      "provenance": [],
      "mount_file_id": "1EJ6xAI07oNUMtWf9Inxj5GqJHU6OnkoZ",
      "authorship_tag": "ABX9TyPVg6mxfBfHOspzMMcIFQvK",
      "include_colab_link": true
    },
    "kernelspec": {
      "name": "python3",
      "display_name": "Python 3"
    },
    "language_info": {
      "name": "python"
    },
    "accelerator": "GPU",
    "gpuClass": "standard"
  },
  "cells": [
    {
      "cell_type": "markdown",
      "metadata": {
        "id": "view-in-github",
        "colab_type": "text"
      },
      "source": [
        "<a href=\"https://colab.research.google.com/github/UtkarshMains/decisiontree-MLP/blob/main/LSRK.ipynb\" target=\"_parent\"><img src=\"https://colab.research.google.com/assets/colab-badge.svg\" alt=\"Open In Colab\"/></a>"
      ]
    },
    {
      "cell_type": "code",
      "execution_count": 1,
      "metadata": {
        "id": "N_-yCXQ7QbFh"
      },
      "outputs": [],
      "source": [
        "import pandas as pd\n",
        "import numpy as np\n",
        "import datetime as dt\n",
        "import calendar,warnings,itertools,matplotlib,keras,shutil\n",
        "import tensorflow as tf\n",
        "from sklearn.neighbors import KNeighborsClassifier\n",
        "from sklearn.linear_model import LogisticRegression\n",
        "from sklearn.ensemble import RandomForestClassifier\n",
        "from sklearn import svm\n",
        "from datetime import datetime\n",
        "from sklearn.model_selection import train_test_split,cross_val_score, cross_val_predict\n",
        "from sklearn import svm,metrics,tree,preprocessing,linear_model\n",
        "from sklearn.metrics import accuracy_score,mean_squared_error,recall_score,confusion_matrix,f1_score,roc_curve, auc\n",
        "warnings.filterwarnings('ignore') "
      ]
    },
    {
      "cell_type": "code",
      "source": [
        "df=pd.read_csv(\"/content/drive/MyDrive/DataCoSupplyChainDataset (1).csv\",header=0,encoding='unicode_escape')"
      ],
      "metadata": {
        "id": "KCfoDe14RV-D"
      },
      "execution_count": 2,
      "outputs": []
    },
    {
      "cell_type": "code",
      "source": [
        "df['Customer Full Name'] = df['Customer Fname'].astype(str)+df['Customer Lname'].astype(str)\n",
        "df.shape"
      ],
      "metadata": {
        "id": "3I6FgcqwRan6",
        "outputId": "ff4603da-4bf0-4715-e5d3-48af2b487af5",
        "colab": {
          "base_uri": "https://localhost:8080/"
        }
      },
      "execution_count": 3,
      "outputs": [
        {
          "output_type": "execute_result",
          "data": {
            "text/plain": [
              "(180519, 54)"
            ]
          },
          "metadata": {},
          "execution_count": 3
        }
      ]
    },
    {
      "cell_type": "code",
      "source": [
        "data=df.drop(['Customer Email','Product Status','Customer Password','Customer Street','Customer Fname','Customer Lname','Product Description','Product Image','Order Zipcode','shipping date (DateOrders)'],axis=1)\n",
        "data.shape"
      ],
      "metadata": {
        "id": "jdm1MjXiRbTG",
        "outputId": "73235cf5-bb64-42d8-a9a6-17e43956934d",
        "colab": {
          "base_uri": "https://localhost:8080/"
        }
      },
      "execution_count": 4,
      "outputs": [
        {
          "output_type": "execute_result",
          "data": {
            "text/plain": [
              "(180519, 44)"
            ]
          },
          "metadata": {},
          "execution_count": 4
        }
      ]
    },
    {
      "cell_type": "code",
      "source": [
        "data['Customer Zipcode']=data['Customer Zipcode'].fillna(0)"
      ],
      "metadata": {
        "id": "CIKZXNLFRdhb"
      },
      "execution_count": 5,
      "outputs": []
    },
    {
      "cell_type": "code",
      "source": [
        "data['TotalPrice'] = data['Order Item Quantity'] * data['Order Item Total']\n",
        "data['order date (DateOrders)'].max()"
      ],
      "metadata": {
        "id": "yRZDmr0TRf8U",
        "outputId": "7ebab6a3-dbb8-44f6-8cb4-98e824c6af38",
        "colab": {
          "base_uri": "https://localhost:8080/",
          "height": 36
        }
      },
      "execution_count": 6,
      "outputs": [
        {
          "output_type": "execute_result",
          "data": {
            "text/plain": [
              "'9/9/2017 9:50'"
            ],
            "application/vnd.google.colaboratory.intrinsic+json": {
              "type": "string"
            }
          },
          "metadata": {},
          "execution_count": 6
        }
      ]
    },
    {
      "cell_type": "code",
      "source": [
        "present = dt.datetime(2018,2,1)\n",
        "data['order date (DateOrders)'] = pd.to_datetime(data['order date (DateOrders)'])"
      ],
      "metadata": {
        "id": "55aKFjmGRiXn"
      },
      "execution_count": 7,
      "outputs": []
    },
    {
      "cell_type": "code",
      "source": [
        "train_data=data.copy()"
      ],
      "metadata": {
        "id": "ZCs_IKzURoHx"
      },
      "execution_count": 8,
      "outputs": []
    },
    {
      "cell_type": "code",
      "source": [
        "train_data['fraud'] = np.where(train_data['Order Status'] == 'SUSPECTED_FRAUD', 1, 0)\n",
        "train_data['late_delivery']=np.where(train_data['Delivery Status'] == 'Late delivery', 1, 0)"
      ],
      "metadata": {
        "id": "vW6BmpAlRrpB"
      },
      "execution_count": 9,
      "outputs": []
    },
    {
      "cell_type": "code",
      "source": [
        "train_data.drop(['Delivery Status','Late_delivery_risk','Order Status','order date (DateOrders)'], axis=1, inplace=True)"
      ],
      "metadata": {
        "id": "VTEgRCJRRtio"
      },
      "execution_count": 10,
      "outputs": []
    },
    {
      "cell_type": "code",
      "source": [
        "le = preprocessing.LabelEncoder()\n",
        "train_data['Customer Country']  = le.fit_transform(train_data['Customer Country'])\n",
        "train_data['Market']            = le.fit_transform(train_data['Market'])\n",
        "train_data['Type']              = le.fit_transform(train_data['Type'])\n",
        "train_data['Product Name']      = le.fit_transform(train_data['Product Name'])\n",
        "train_data['Customer Segment']  = le.fit_transform(train_data['Customer Segment'])\n",
        "train_data['Customer State']    = le.fit_transform(train_data['Customer State'])\n",
        "train_data['Order Region']      = le.fit_transform(train_data['Order Region'])\n",
        "train_data['Order City']        = le.fit_transform(train_data['Order City'])\n",
        "train_data['Category Name']     = le.fit_transform(train_data['Category Name'])\n",
        "train_data['Customer City']     = le.fit_transform(train_data['Customer City'])\n",
        "train_data['Department Name']   = le.fit_transform(train_data['Department Name'])\n",
        "train_data['Order State']       = le.fit_transform(train_data['Order State'])\n",
        "train_data['Shipping Mode']     = le.fit_transform(train_data['Shipping Mode'])\n",
        "train_data['Order Country']     = le.fit_transform(train_data['Order Country'])\n",
        "train_data['Customer Full Name']= le.fit_transform(train_data['Customer Full Name'])\n",
        "train_data.head()"
      ],
      "metadata": {
        "id": "PspgZbnrRvhB",
        "colab": {
          "base_uri": "https://localhost:8080/",
          "height": 334
        },
        "outputId": "5c9f2b8d-ddbe-4331-dacc-be985c7a8c6e"
      },
      "execution_count": 11,
      "outputs": [
        {
          "output_type": "execute_result",
          "data": {
            "text/plain": [
              "   Type  Days for shipping (real)  Days for shipment (scheduled)  \\\n",
              "0     1                         3                              4   \n",
              "1     3                         5                              4   \n",
              "2     0                         4                              4   \n",
              "3     1                         3                              4   \n",
              "4     2                         2                              4   \n",
              "\n",
              "   Benefit per order  Sales per customer  Category Id  Category Name  \\\n",
              "0          91.250000          314.640015           73             40   \n",
              "1        -249.089996          311.359985           73             40   \n",
              "2        -247.779999          309.720001           73             40   \n",
              "3          22.860001          304.809998           73             40   \n",
              "4         134.210007          298.250000           73             40   \n",
              "\n",
              "   Customer City  Customer Country  Customer Id  ...  Order State  \\\n",
              "0             66                 1        20755  ...          475   \n",
              "1             66                 1        19492  ...          841   \n",
              "2            452                 0        19491  ...          841   \n",
              "3            285                 0        19490  ...          835   \n",
              "4             66                 1        19489  ...          835   \n",
              "\n",
              "   Product Card Id  Product Category Id  Product Name  Product Price  \\\n",
              "0             1360                   73            78         327.75   \n",
              "1             1360                   73            78         327.75   \n",
              "2             1360                   73            78         327.75   \n",
              "3             1360                   73            78         327.75   \n",
              "4             1360                   73            78         327.75   \n",
              "\n",
              "   Shipping Mode  Customer Full Name  TotalPrice  fraud  late_delivery  \n",
              "0              3                1876  314.640015      0              0  \n",
              "1              3                5378  311.359985      0              1  \n",
              "2              3                4429  309.720001      0              0  \n",
              "3              3               12929  304.809998      0              0  \n",
              "4              3               10638  298.250000      0              0  \n",
              "\n",
              "[5 rows x 43 columns]"
            ],
            "text/html": [
              "\n",
              "  <div id=\"df-6c850a72-d827-4cb2-873a-1b12bc15c6f8\">\n",
              "    <div class=\"colab-df-container\">\n",
              "      <div>\n",
              "<style scoped>\n",
              "    .dataframe tbody tr th:only-of-type {\n",
              "        vertical-align: middle;\n",
              "    }\n",
              "\n",
              "    .dataframe tbody tr th {\n",
              "        vertical-align: top;\n",
              "    }\n",
              "\n",
              "    .dataframe thead th {\n",
              "        text-align: right;\n",
              "    }\n",
              "</style>\n",
              "<table border=\"1\" class=\"dataframe\">\n",
              "  <thead>\n",
              "    <tr style=\"text-align: right;\">\n",
              "      <th></th>\n",
              "      <th>Type</th>\n",
              "      <th>Days for shipping (real)</th>\n",
              "      <th>Days for shipment (scheduled)</th>\n",
              "      <th>Benefit per order</th>\n",
              "      <th>Sales per customer</th>\n",
              "      <th>Category Id</th>\n",
              "      <th>Category Name</th>\n",
              "      <th>Customer City</th>\n",
              "      <th>Customer Country</th>\n",
              "      <th>Customer Id</th>\n",
              "      <th>...</th>\n",
              "      <th>Order State</th>\n",
              "      <th>Product Card Id</th>\n",
              "      <th>Product Category Id</th>\n",
              "      <th>Product Name</th>\n",
              "      <th>Product Price</th>\n",
              "      <th>Shipping Mode</th>\n",
              "      <th>Customer Full Name</th>\n",
              "      <th>TotalPrice</th>\n",
              "      <th>fraud</th>\n",
              "      <th>late_delivery</th>\n",
              "    </tr>\n",
              "  </thead>\n",
              "  <tbody>\n",
              "    <tr>\n",
              "      <th>0</th>\n",
              "      <td>1</td>\n",
              "      <td>3</td>\n",
              "      <td>4</td>\n",
              "      <td>91.250000</td>\n",
              "      <td>314.640015</td>\n",
              "      <td>73</td>\n",
              "      <td>40</td>\n",
              "      <td>66</td>\n",
              "      <td>1</td>\n",
              "      <td>20755</td>\n",
              "      <td>...</td>\n",
              "      <td>475</td>\n",
              "      <td>1360</td>\n",
              "      <td>73</td>\n",
              "      <td>78</td>\n",
              "      <td>327.75</td>\n",
              "      <td>3</td>\n",
              "      <td>1876</td>\n",
              "      <td>314.640015</td>\n",
              "      <td>0</td>\n",
              "      <td>0</td>\n",
              "    </tr>\n",
              "    <tr>\n",
              "      <th>1</th>\n",
              "      <td>3</td>\n",
              "      <td>5</td>\n",
              "      <td>4</td>\n",
              "      <td>-249.089996</td>\n",
              "      <td>311.359985</td>\n",
              "      <td>73</td>\n",
              "      <td>40</td>\n",
              "      <td>66</td>\n",
              "      <td>1</td>\n",
              "      <td>19492</td>\n",
              "      <td>...</td>\n",
              "      <td>841</td>\n",
              "      <td>1360</td>\n",
              "      <td>73</td>\n",
              "      <td>78</td>\n",
              "      <td>327.75</td>\n",
              "      <td>3</td>\n",
              "      <td>5378</td>\n",
              "      <td>311.359985</td>\n",
              "      <td>0</td>\n",
              "      <td>1</td>\n",
              "    </tr>\n",
              "    <tr>\n",
              "      <th>2</th>\n",
              "      <td>0</td>\n",
              "      <td>4</td>\n",
              "      <td>4</td>\n",
              "      <td>-247.779999</td>\n",
              "      <td>309.720001</td>\n",
              "      <td>73</td>\n",
              "      <td>40</td>\n",
              "      <td>452</td>\n",
              "      <td>0</td>\n",
              "      <td>19491</td>\n",
              "      <td>...</td>\n",
              "      <td>841</td>\n",
              "      <td>1360</td>\n",
              "      <td>73</td>\n",
              "      <td>78</td>\n",
              "      <td>327.75</td>\n",
              "      <td>3</td>\n",
              "      <td>4429</td>\n",
              "      <td>309.720001</td>\n",
              "      <td>0</td>\n",
              "      <td>0</td>\n",
              "    </tr>\n",
              "    <tr>\n",
              "      <th>3</th>\n",
              "      <td>1</td>\n",
              "      <td>3</td>\n",
              "      <td>4</td>\n",
              "      <td>22.860001</td>\n",
              "      <td>304.809998</td>\n",
              "      <td>73</td>\n",
              "      <td>40</td>\n",
              "      <td>285</td>\n",
              "      <td>0</td>\n",
              "      <td>19490</td>\n",
              "      <td>...</td>\n",
              "      <td>835</td>\n",
              "      <td>1360</td>\n",
              "      <td>73</td>\n",
              "      <td>78</td>\n",
              "      <td>327.75</td>\n",
              "      <td>3</td>\n",
              "      <td>12929</td>\n",
              "      <td>304.809998</td>\n",
              "      <td>0</td>\n",
              "      <td>0</td>\n",
              "    </tr>\n",
              "    <tr>\n",
              "      <th>4</th>\n",
              "      <td>2</td>\n",
              "      <td>2</td>\n",
              "      <td>4</td>\n",
              "      <td>134.210007</td>\n",
              "      <td>298.250000</td>\n",
              "      <td>73</td>\n",
              "      <td>40</td>\n",
              "      <td>66</td>\n",
              "      <td>1</td>\n",
              "      <td>19489</td>\n",
              "      <td>...</td>\n",
              "      <td>835</td>\n",
              "      <td>1360</td>\n",
              "      <td>73</td>\n",
              "      <td>78</td>\n",
              "      <td>327.75</td>\n",
              "      <td>3</td>\n",
              "      <td>10638</td>\n",
              "      <td>298.250000</td>\n",
              "      <td>0</td>\n",
              "      <td>0</td>\n",
              "    </tr>\n",
              "  </tbody>\n",
              "</table>\n",
              "<p>5 rows × 43 columns</p>\n",
              "</div>\n",
              "      <button class=\"colab-df-convert\" onclick=\"convertToInteractive('df-6c850a72-d827-4cb2-873a-1b12bc15c6f8')\"\n",
              "              title=\"Convert this dataframe to an interactive table.\"\n",
              "              style=\"display:none;\">\n",
              "        \n",
              "  <svg xmlns=\"http://www.w3.org/2000/svg\" height=\"24px\"viewBox=\"0 0 24 24\"\n",
              "       width=\"24px\">\n",
              "    <path d=\"M0 0h24v24H0V0z\" fill=\"none\"/>\n",
              "    <path d=\"M18.56 5.44l.94 2.06.94-2.06 2.06-.94-2.06-.94-.94-2.06-.94 2.06-2.06.94zm-11 1L8.5 8.5l.94-2.06 2.06-.94-2.06-.94L8.5 2.5l-.94 2.06-2.06.94zm10 10l.94 2.06.94-2.06 2.06-.94-2.06-.94-.94-2.06-.94 2.06-2.06.94z\"/><path d=\"M17.41 7.96l-1.37-1.37c-.4-.4-.92-.59-1.43-.59-.52 0-1.04.2-1.43.59L10.3 9.45l-7.72 7.72c-.78.78-.78 2.05 0 2.83L4 21.41c.39.39.9.59 1.41.59.51 0 1.02-.2 1.41-.59l7.78-7.78 2.81-2.81c.8-.78.8-2.07 0-2.86zM5.41 20L4 18.59l7.72-7.72 1.47 1.35L5.41 20z\"/>\n",
              "  </svg>\n",
              "      </button>\n",
              "      \n",
              "  <style>\n",
              "    .colab-df-container {\n",
              "      display:flex;\n",
              "      flex-wrap:wrap;\n",
              "      gap: 12px;\n",
              "    }\n",
              "\n",
              "    .colab-df-convert {\n",
              "      background-color: #E8F0FE;\n",
              "      border: none;\n",
              "      border-radius: 50%;\n",
              "      cursor: pointer;\n",
              "      display: none;\n",
              "      fill: #1967D2;\n",
              "      height: 32px;\n",
              "      padding: 0 0 0 0;\n",
              "      width: 32px;\n",
              "    }\n",
              "\n",
              "    .colab-df-convert:hover {\n",
              "      background-color: #E2EBFA;\n",
              "      box-shadow: 0px 1px 2px rgba(60, 64, 67, 0.3), 0px 1px 3px 1px rgba(60, 64, 67, 0.15);\n",
              "      fill: #174EA6;\n",
              "    }\n",
              "\n",
              "    [theme=dark] .colab-df-convert {\n",
              "      background-color: #3B4455;\n",
              "      fill: #D2E3FC;\n",
              "    }\n",
              "\n",
              "    [theme=dark] .colab-df-convert:hover {\n",
              "      background-color: #434B5C;\n",
              "      box-shadow: 0px 1px 3px 1px rgba(0, 0, 0, 0.15);\n",
              "      filter: drop-shadow(0px 1px 2px rgba(0, 0, 0, 0.3));\n",
              "      fill: #FFFFFF;\n",
              "    }\n",
              "  </style>\n",
              "\n",
              "      <script>\n",
              "        const buttonEl =\n",
              "          document.querySelector('#df-6c850a72-d827-4cb2-873a-1b12bc15c6f8 button.colab-df-convert');\n",
              "        buttonEl.style.display =\n",
              "          google.colab.kernel.accessAllowed ? 'block' : 'none';\n",
              "\n",
              "        async function convertToInteractive(key) {\n",
              "          const element = document.querySelector('#df-6c850a72-d827-4cb2-873a-1b12bc15c6f8');\n",
              "          const dataTable =\n",
              "            await google.colab.kernel.invokeFunction('convertToInteractive',\n",
              "                                                     [key], {});\n",
              "          if (!dataTable) return;\n",
              "\n",
              "          const docLinkHtml = 'Like what you see? Visit the ' +\n",
              "            '<a target=\"_blank\" href=https://colab.research.google.com/notebooks/data_table.ipynb>data table notebook</a>'\n",
              "            + ' to learn more about interactive tables.';\n",
              "          element.innerHTML = '';\n",
              "          dataTable['output_type'] = 'display_data';\n",
              "          await google.colab.output.renderOutput(dataTable, element);\n",
              "          const docLink = document.createElement('div');\n",
              "          docLink.innerHTML = docLinkHtml;\n",
              "          element.appendChild(docLink);\n",
              "        }\n",
              "      </script>\n",
              "    </div>\n",
              "  </div>\n",
              "  "
            ]
          },
          "metadata": {},
          "execution_count": 11
        }
      ]
    },
    {
      "cell_type": "code",
      "source": [
        "def pred(model,cpre):\n",
        "  try:\n",
        "    xf=train_data.loc[:, train_data.columns != cpre]\n",
        "    yf=train_data[cpre]\n",
        "    xf_train, xf_test,yf_train,yf_test = train_test_split(xf,yf,test_size = 0.2,random_state = 42)\n",
        "    model=model.fit(xf_train,yf_train)\n",
        "    yf_pred=model.predict(xf_test)\n",
        "    return accuracy_score(yf_pred, yf_test)\n",
        "  except:\n",
        "    return 0"
      ],
      "metadata": {
        "id": "UgTAoqId4NT2"
      },
      "execution_count": 34,
      "outputs": []
    },
    {
      "cell_type": "code",
      "source": [
        "models={}"
      ],
      "metadata": {
        "id": "4Ssu0ICg59E0"
      },
      "execution_count": 13,
      "outputs": []
    },
    {
      "cell_type": "markdown",
      "source": [
        "LogisticRegression"
      ],
      "metadata": {
        "id": "EiommC1zSXuE"
      }
    },
    {
      "cell_type": "code",
      "source": [
        "lr= LogisticRegression(solver='lbfgs',random_state=0)\n",
        "models['LogisticRegression']=lr"
      ],
      "metadata": {
        "id": "aBTo7gdnR0rs"
      },
      "execution_count": 14,
      "outputs": []
    },
    {
      "cell_type": "markdown",
      "source": [
        "SVM"
      ],
      "metadata": {
        "id": "qPm3v-aVSbna"
      }
    },
    {
      "cell_type": "code",
      "source": [
        "sv = svm.LinearSVC()\n",
        "models['svm']=sv"
      ],
      "metadata": {
        "id": "zkrVUmX4SkP9"
      },
      "execution_count": 15,
      "outputs": []
    },
    {
      "cell_type": "markdown",
      "source": [
        "K nearest neighbour"
      ],
      "metadata": {
        "id": "pUbpXrEcSovt"
      }
    },
    {
      "cell_type": "code",
      "source": [
        "knn = KNeighborsClassifier(n_neighbors=1)\n",
        "models['KNN']=knn"
      ],
      "metadata": {
        "id": "7CejrPT_Ss0U"
      },
      "execution_count": 16,
      "outputs": []
    },
    {
      "cell_type": "markdown",
      "source": [
        "Random forest"
      ],
      "metadata": {
        "id": "bL8tLhooS2lJ"
      }
    },
    {
      "cell_type": "code",
      "source": [
        "rfc = RandomForestClassifier()\n",
        "models['RandomForestClassifier']=rfc"
      ],
      "metadata": {
        "id": "fovhjiPCTAqY"
      },
      "execution_count": 17,
      "outputs": []
    },
    {
      "cell_type": "code",
      "source": [
        "train_data.columns"
      ],
      "metadata": {
        "colab": {
          "base_uri": "https://localhost:8080/"
        },
        "id": "4Nu5f5Aw7OeG",
        "outputId": "aad279eb-1f9a-4c85-cf63-46a7db035d5d"
      },
      "execution_count": 18,
      "outputs": [
        {
          "output_type": "execute_result",
          "data": {
            "text/plain": [
              "Index(['Type', 'Days for shipping (real)', 'Days for shipment (scheduled)',\n",
              "       'Benefit per order', 'Sales per customer', 'Category Id',\n",
              "       'Category Name', 'Customer City', 'Customer Country', 'Customer Id',\n",
              "       'Customer Segment', 'Customer State', 'Customer Zipcode',\n",
              "       'Department Id', 'Department Name', 'Latitude', 'Longitude', 'Market',\n",
              "       'Order City', 'Order Country', 'Order Customer Id', 'Order Id',\n",
              "       'Order Item Cardprod Id', 'Order Item Discount',\n",
              "       'Order Item Discount Rate', 'Order Item Id', 'Order Item Product Price',\n",
              "       'Order Item Profit Ratio', 'Order Item Quantity', 'Sales',\n",
              "       'Order Item Total', 'Order Profit Per Order', 'Order Region',\n",
              "       'Order State', 'Product Card Id', 'Product Category Id', 'Product Name',\n",
              "       'Product Price', 'Shipping Mode', 'Customer Full Name', 'TotalPrice',\n",
              "       'fraud', 'late_delivery'],\n",
              "      dtype='object')"
            ]
          },
          "metadata": {},
          "execution_count": 18
        }
      ]
    },
    {
      "cell_type": "code",
      "source": [
        "cols=['Days for shipping (real)', 'Days for shipment (scheduled)',\n",
        "       'Benefit per order', 'Sales per customer','Order Item Discount',\n",
        "       'Order Item Discount Rate', 'Sales','Order Profit Per Order',\n",
        "       'Product Price', 'Shipping Mode',\n",
        "       'fraud', 'late_delivery']"
      ],
      "metadata": {
        "id": "CKXeuows7fFU"
      },
      "execution_count": 19,
      "outputs": []
    },
    {
      "cell_type": "code",
      "source": [
        "dic={'Columns':[]}\n",
        "for i in models.keys():\n",
        "  dic[i]=[]\n",
        "for i in models:\n",
        "  for j in cols:\n",
        "    if j not in dic['Columns']:\n",
        "      dic['Columns'].append(j)\n",
        "    print(j)\n",
        "    acc=pred(models[i],j)\n",
        "    dic[i].append(acc)\n"
      ],
      "metadata": {
        "colab": {
          "base_uri": "https://localhost:8080/"
        },
        "id": "a-dnl9c28WCx",
        "outputId": "dadb6e12-ad33-4ab5-9e8a-a8e689258430"
      },
      "execution_count": 35,
      "outputs": [
        {
          "output_type": "stream",
          "name": "stdout",
          "text": [
            "Days for shipping (real)\n",
            "Days for shipment (scheduled)\n",
            "Benefit per order\n",
            "Sales per customer\n",
            "Order Item Discount\n",
            "Order Item Discount Rate\n",
            "Sales\n",
            "Order Profit Per Order\n",
            "Product Price\n",
            "Shipping Mode\n",
            "fraud\n",
            "late_delivery\n",
            "Days for shipping (real)\n",
            "Days for shipment (scheduled)\n",
            "Benefit per order\n",
            "Sales per customer\n",
            "Order Item Discount\n",
            "Order Item Discount Rate\n",
            "Sales\n",
            "Order Profit Per Order\n",
            "Product Price\n",
            "Shipping Mode\n",
            "fraud\n",
            "late_delivery\n",
            "Days for shipping (real)\n",
            "Days for shipment (scheduled)\n",
            "Benefit per order\n",
            "Sales per customer\n",
            "Order Item Discount\n",
            "Order Item Discount Rate\n",
            "Sales\n",
            "Order Profit Per Order\n",
            "Product Price\n",
            "Shipping Mode\n",
            "fraud\n",
            "late_delivery\n",
            "Days for shipping (real)\n",
            "Days for shipment (scheduled)\n",
            "Benefit per order\n",
            "Sales per customer\n",
            "Order Item Discount\n",
            "Order Item Discount Rate\n",
            "Sales\n",
            "Order Profit Per Order\n",
            "Product Price\n",
            "Shipping Mode\n",
            "fraud\n",
            "late_delivery\n"
          ]
        }
      ]
    },
    {
      "cell_type": "code",
      "source": [
        "dfs=pd.DataFrame(dic)\n",
        "dfs"
      ],
      "metadata": {
        "colab": {
          "base_uri": "https://localhost:8080/",
          "height": 425
        },
        "id": "c6NxRZ7aAEBE",
        "outputId": "07420acd-6403-46b9-fd41-d893b4e292e9"
      },
      "execution_count": 37,
      "outputs": [
        {
          "output_type": "execute_result",
          "data": {
            "text/plain": [
              "                          Columns  LogisticRegression       svm       KNN  \\\n",
              "0        Days for shipping (real)            0.313345  0.257146  0.847939   \n",
              "1   Days for shipment (scheduled)            0.597884  0.597828  0.890372   \n",
              "2               Benefit per order            0.000000  0.000000  0.000000   \n",
              "3              Sales per customer            0.000000  0.000000  0.000000   \n",
              "4             Order Item Discount            0.000000  0.000000  0.000000   \n",
              "5        Order Item Discount Rate            0.000000  0.000000  0.000000   \n",
              "6                           Sales            0.000000  0.000000  0.000000   \n",
              "7          Order Profit Per Order            0.000000  0.000000  0.000000   \n",
              "8                   Product Price            0.000000  0.000000  0.000000   \n",
              "9                   Shipping Mode            0.597884  0.446710  0.890372   \n",
              "10                          fraud            0.976457  0.975903  0.990555   \n",
              "11                  late_delivery            0.548416  0.549551  0.905107   \n",
              "\n",
              "    RandomForestClassifier  \n",
              "0                 0.874972  \n",
              "1                 1.000000  \n",
              "2                 0.000000  \n",
              "3                 0.000000  \n",
              "4                 0.000000  \n",
              "5                 0.000000  \n",
              "6                 0.000000  \n",
              "7                 0.000000  \n",
              "8                 0.000000  \n",
              "9                 1.000000  \n",
              "10                0.987453  \n",
              "11                0.990804  "
            ],
            "text/html": [
              "\n",
              "  <div id=\"df-73fc9043-e168-4f96-bfbf-035545548fd4\">\n",
              "    <div class=\"colab-df-container\">\n",
              "      <div>\n",
              "<style scoped>\n",
              "    .dataframe tbody tr th:only-of-type {\n",
              "        vertical-align: middle;\n",
              "    }\n",
              "\n",
              "    .dataframe tbody tr th {\n",
              "        vertical-align: top;\n",
              "    }\n",
              "\n",
              "    .dataframe thead th {\n",
              "        text-align: right;\n",
              "    }\n",
              "</style>\n",
              "<table border=\"1\" class=\"dataframe\">\n",
              "  <thead>\n",
              "    <tr style=\"text-align: right;\">\n",
              "      <th></th>\n",
              "      <th>Columns</th>\n",
              "      <th>LogisticRegression</th>\n",
              "      <th>svm</th>\n",
              "      <th>KNN</th>\n",
              "      <th>RandomForestClassifier</th>\n",
              "    </tr>\n",
              "  </thead>\n",
              "  <tbody>\n",
              "    <tr>\n",
              "      <th>0</th>\n",
              "      <td>Days for shipping (real)</td>\n",
              "      <td>0.313345</td>\n",
              "      <td>0.257146</td>\n",
              "      <td>0.847939</td>\n",
              "      <td>0.874972</td>\n",
              "    </tr>\n",
              "    <tr>\n",
              "      <th>1</th>\n",
              "      <td>Days for shipment (scheduled)</td>\n",
              "      <td>0.597884</td>\n",
              "      <td>0.597828</td>\n",
              "      <td>0.890372</td>\n",
              "      <td>1.000000</td>\n",
              "    </tr>\n",
              "    <tr>\n",
              "      <th>2</th>\n",
              "      <td>Benefit per order</td>\n",
              "      <td>0.000000</td>\n",
              "      <td>0.000000</td>\n",
              "      <td>0.000000</td>\n",
              "      <td>0.000000</td>\n",
              "    </tr>\n",
              "    <tr>\n",
              "      <th>3</th>\n",
              "      <td>Sales per customer</td>\n",
              "      <td>0.000000</td>\n",
              "      <td>0.000000</td>\n",
              "      <td>0.000000</td>\n",
              "      <td>0.000000</td>\n",
              "    </tr>\n",
              "    <tr>\n",
              "      <th>4</th>\n",
              "      <td>Order Item Discount</td>\n",
              "      <td>0.000000</td>\n",
              "      <td>0.000000</td>\n",
              "      <td>0.000000</td>\n",
              "      <td>0.000000</td>\n",
              "    </tr>\n",
              "    <tr>\n",
              "      <th>5</th>\n",
              "      <td>Order Item Discount Rate</td>\n",
              "      <td>0.000000</td>\n",
              "      <td>0.000000</td>\n",
              "      <td>0.000000</td>\n",
              "      <td>0.000000</td>\n",
              "    </tr>\n",
              "    <tr>\n",
              "      <th>6</th>\n",
              "      <td>Sales</td>\n",
              "      <td>0.000000</td>\n",
              "      <td>0.000000</td>\n",
              "      <td>0.000000</td>\n",
              "      <td>0.000000</td>\n",
              "    </tr>\n",
              "    <tr>\n",
              "      <th>7</th>\n",
              "      <td>Order Profit Per Order</td>\n",
              "      <td>0.000000</td>\n",
              "      <td>0.000000</td>\n",
              "      <td>0.000000</td>\n",
              "      <td>0.000000</td>\n",
              "    </tr>\n",
              "    <tr>\n",
              "      <th>8</th>\n",
              "      <td>Product Price</td>\n",
              "      <td>0.000000</td>\n",
              "      <td>0.000000</td>\n",
              "      <td>0.000000</td>\n",
              "      <td>0.000000</td>\n",
              "    </tr>\n",
              "    <tr>\n",
              "      <th>9</th>\n",
              "      <td>Shipping Mode</td>\n",
              "      <td>0.597884</td>\n",
              "      <td>0.446710</td>\n",
              "      <td>0.890372</td>\n",
              "      <td>1.000000</td>\n",
              "    </tr>\n",
              "    <tr>\n",
              "      <th>10</th>\n",
              "      <td>fraud</td>\n",
              "      <td>0.976457</td>\n",
              "      <td>0.975903</td>\n",
              "      <td>0.990555</td>\n",
              "      <td>0.987453</td>\n",
              "    </tr>\n",
              "    <tr>\n",
              "      <th>11</th>\n",
              "      <td>late_delivery</td>\n",
              "      <td>0.548416</td>\n",
              "      <td>0.549551</td>\n",
              "      <td>0.905107</td>\n",
              "      <td>0.990804</td>\n",
              "    </tr>\n",
              "  </tbody>\n",
              "</table>\n",
              "</div>\n",
              "      <button class=\"colab-df-convert\" onclick=\"convertToInteractive('df-73fc9043-e168-4f96-bfbf-035545548fd4')\"\n",
              "              title=\"Convert this dataframe to an interactive table.\"\n",
              "              style=\"display:none;\">\n",
              "        \n",
              "  <svg xmlns=\"http://www.w3.org/2000/svg\" height=\"24px\"viewBox=\"0 0 24 24\"\n",
              "       width=\"24px\">\n",
              "    <path d=\"M0 0h24v24H0V0z\" fill=\"none\"/>\n",
              "    <path d=\"M18.56 5.44l.94 2.06.94-2.06 2.06-.94-2.06-.94-.94-2.06-.94 2.06-2.06.94zm-11 1L8.5 8.5l.94-2.06 2.06-.94-2.06-.94L8.5 2.5l-.94 2.06-2.06.94zm10 10l.94 2.06.94-2.06 2.06-.94-2.06-.94-.94-2.06-.94 2.06-2.06.94z\"/><path d=\"M17.41 7.96l-1.37-1.37c-.4-.4-.92-.59-1.43-.59-.52 0-1.04.2-1.43.59L10.3 9.45l-7.72 7.72c-.78.78-.78 2.05 0 2.83L4 21.41c.39.39.9.59 1.41.59.51 0 1.02-.2 1.41-.59l7.78-7.78 2.81-2.81c.8-.78.8-2.07 0-2.86zM5.41 20L4 18.59l7.72-7.72 1.47 1.35L5.41 20z\"/>\n",
              "  </svg>\n",
              "      </button>\n",
              "      \n",
              "  <style>\n",
              "    .colab-df-container {\n",
              "      display:flex;\n",
              "      flex-wrap:wrap;\n",
              "      gap: 12px;\n",
              "    }\n",
              "\n",
              "    .colab-df-convert {\n",
              "      background-color: #E8F0FE;\n",
              "      border: none;\n",
              "      border-radius: 50%;\n",
              "      cursor: pointer;\n",
              "      display: none;\n",
              "      fill: #1967D2;\n",
              "      height: 32px;\n",
              "      padding: 0 0 0 0;\n",
              "      width: 32px;\n",
              "    }\n",
              "\n",
              "    .colab-df-convert:hover {\n",
              "      background-color: #E2EBFA;\n",
              "      box-shadow: 0px 1px 2px rgba(60, 64, 67, 0.3), 0px 1px 3px 1px rgba(60, 64, 67, 0.15);\n",
              "      fill: #174EA6;\n",
              "    }\n",
              "\n",
              "    [theme=dark] .colab-df-convert {\n",
              "      background-color: #3B4455;\n",
              "      fill: #D2E3FC;\n",
              "    }\n",
              "\n",
              "    [theme=dark] .colab-df-convert:hover {\n",
              "      background-color: #434B5C;\n",
              "      box-shadow: 0px 1px 3px 1px rgba(0, 0, 0, 0.15);\n",
              "      filter: drop-shadow(0px 1px 2px rgba(0, 0, 0, 0.3));\n",
              "      fill: #FFFFFF;\n",
              "    }\n",
              "  </style>\n",
              "\n",
              "      <script>\n",
              "        const buttonEl =\n",
              "          document.querySelector('#df-73fc9043-e168-4f96-bfbf-035545548fd4 button.colab-df-convert');\n",
              "        buttonEl.style.display =\n",
              "          google.colab.kernel.accessAllowed ? 'block' : 'none';\n",
              "\n",
              "        async function convertToInteractive(key) {\n",
              "          const element = document.querySelector('#df-73fc9043-e168-4f96-bfbf-035545548fd4');\n",
              "          const dataTable =\n",
              "            await google.colab.kernel.invokeFunction('convertToInteractive',\n",
              "                                                     [key], {});\n",
              "          if (!dataTable) return;\n",
              "\n",
              "          const docLinkHtml = 'Like what you see? Visit the ' +\n",
              "            '<a target=\"_blank\" href=https://colab.research.google.com/notebooks/data_table.ipynb>data table notebook</a>'\n",
              "            + ' to learn more about interactive tables.';\n",
              "          element.innerHTML = '';\n",
              "          dataTable['output_type'] = 'display_data';\n",
              "          await google.colab.output.renderOutput(dataTable, element);\n",
              "          const docLink = document.createElement('div');\n",
              "          docLink.innerHTML = docLinkHtml;\n",
              "          element.appendChild(docLink);\n",
              "        }\n",
              "      </script>\n",
              "    </div>\n",
              "  </div>\n",
              "  "
            ]
          },
          "metadata": {},
          "execution_count": 37
        }
      ]
    },
    {
      "cell_type": "code",
      "source": [
        "dfs.to_excel('saved_file.xlsx')"
      ],
      "metadata": {
        "id": "CeL37OCgIAnn"
      },
      "execution_count": 38,
      "outputs": []
    }
  ]
}